{
  "cells": [
    {
      "cell_type": "code",
      "execution_count": 162,
      "metadata": {
        "dc": {
          "key": "7"
        },
        "tags": [
          "sample_code"
        ],
        "trusted": true
      },
      "outputs": [
        {
          "name": "stdout",
          "output_type": "stream",
          "text": [
            "10 rows affected.\n"
          ]
        },
        {
          "data": {
            "text/html": [
              "<table>\n",
              "    <thead>\n",
              "        <tr>\n",
              "            <th>game</th>\n",
              "            <th>platform</th>\n",
              "            <th>publisher</th>\n",
              "            <th>developer</th>\n",
              "            <th>games_sold</th>\n",
              "            <th>year</th>\n",
              "        </tr>\n",
              "    </thead>\n",
              "    <tbody>\n",
              "        <tr>\n",
              "            <td>Wii Sports for Wii</td>\n",
              "            <td>Wii</td>\n",
              "            <td>Nintendo</td>\n",
              "            <td>Nintendo EAD</td>\n",
              "            <td>82.90</td>\n",
              "            <td>2006</td>\n",
              "        </tr>\n",
              "        <tr>\n",
              "            <td>Super Mario Bros. for NES</td>\n",
              "            <td>NES</td>\n",
              "            <td>Nintendo</td>\n",
              "            <td>Nintendo EAD</td>\n",
              "            <td>40.24</td>\n",
              "            <td>1985</td>\n",
              "        </tr>\n",
              "        <tr>\n",
              "            <td>Counter-Strike: Global Offensive for PC</td>\n",
              "            <td>PC</td>\n",
              "            <td>Valve</td>\n",
              "            <td>Valve Corporation</td>\n",
              "            <td>40.00</td>\n",
              "            <td>2012</td>\n",
              "        </tr>\n",
              "        <tr>\n",
              "            <td>Mario Kart Wii for Wii</td>\n",
              "            <td>Wii</td>\n",
              "            <td>Nintendo</td>\n",
              "            <td>Nintendo EAD</td>\n",
              "            <td>37.32</td>\n",
              "            <td>2008</td>\n",
              "        </tr>\n",
              "        <tr>\n",
              "            <td>PLAYERUNKNOWN&#x27;S BATTLEGROUNDS for PC</td>\n",
              "            <td>PC</td>\n",
              "            <td>PUBG Corporation</td>\n",
              "            <td>PUBG Corporation</td>\n",
              "            <td>36.60</td>\n",
              "            <td>2017</td>\n",
              "        </tr>\n",
              "        <tr>\n",
              "            <td>Minecraft for PC</td>\n",
              "            <td>PC</td>\n",
              "            <td>Mojang</td>\n",
              "            <td>Mojang AB</td>\n",
              "            <td>33.15</td>\n",
              "            <td>2010</td>\n",
              "        </tr>\n",
              "        <tr>\n",
              "            <td>Wii Sports Resort for Wii</td>\n",
              "            <td>Wii</td>\n",
              "            <td>Nintendo</td>\n",
              "            <td>Nintendo EAD</td>\n",
              "            <td>33.13</td>\n",
              "            <td>2009</td>\n",
              "        </tr>\n",
              "        <tr>\n",
              "            <td>Pokemon Red / Green / Blue Version for GB</td>\n",
              "            <td>GB</td>\n",
              "            <td>Nintendo</td>\n",
              "            <td>Game Freak</td>\n",
              "            <td>31.38</td>\n",
              "            <td>1998</td>\n",
              "        </tr>\n",
              "        <tr>\n",
              "            <td>New Super Mario Bros. for DS</td>\n",
              "            <td>DS</td>\n",
              "            <td>Nintendo</td>\n",
              "            <td>Nintendo EAD</td>\n",
              "            <td>30.80</td>\n",
              "            <td>2006</td>\n",
              "        </tr>\n",
              "        <tr>\n",
              "            <td>New Super Mario Bros. Wii for Wii</td>\n",
              "            <td>Wii</td>\n",
              "            <td>Nintendo</td>\n",
              "            <td>Nintendo EAD</td>\n",
              "            <td>30.30</td>\n",
              "            <td>2009</td>\n",
              "        </tr>\n",
              "    </tbody>\n",
              "</table>"
            ],
            "text/plain": [
              "[('Wii Sports for Wii', 'Wii', 'Nintendo', 'Nintendo EAD', Decimal('82.90'), 2006),\n",
              " ('Super Mario Bros. for NES', 'NES', 'Nintendo', 'Nintendo EAD', Decimal('40.24'), 1985),\n",
              " ('Counter-Strike: Global Offensive for PC', 'PC', 'Valve', 'Valve Corporation', Decimal('40.00'), 2012),\n",
              " ('Mario Kart Wii for Wii', 'Wii', 'Nintendo', 'Nintendo EAD', Decimal('37.32'), 2008),\n",
              " (\"PLAYERUNKNOWN'S BATTLEGROUNDS for PC\", 'PC', 'PUBG Corporation', 'PUBG Corporation', Decimal('36.60'), 2017),\n",
              " ('Minecraft for PC', 'PC', 'Mojang', 'Mojang AB', Decimal('33.15'), 2010),\n",
              " ('Wii Sports Resort for Wii', 'Wii', 'Nintendo', 'Nintendo EAD', Decimal('33.13'), 2009),\n",
              " ('Pokemon Red / Green / Blue Version for GB', 'GB', 'Nintendo', 'Game Freak', Decimal('31.38'), 1998),\n",
              " ('New Super Mario Bros. for DS', 'DS', 'Nintendo', 'Nintendo EAD', Decimal('30.80'), 2006),\n",
              " ('New Super Mario Bros. Wii for Wii', 'Wii', 'Nintendo', 'Nintendo EAD', Decimal('30.30'), 2009)]"
            ]
          },
          "execution_count": 162,
          "metadata": {},
          "output_type": "execute_result"
        }
      ],
      "source": [
        "--Selected all records within the dataset\n",
        "--Ordered by number of games sold highest to lowest\n",
        "--Top ten only\n",
        "Select\n",
        "    *\n",
        "from\n",
        "    game_sales\n",
        "order by\n",
        "    games_sold desc\n",
        "limit 10;"
      ]
    },
    {
      "cell_type": "code",
      "execution_count": null,
      "metadata": {},
      "outputs": [],
      "source": []
    },
    {
      "cell_type": "code",
      "execution_count": 164,
      "metadata": {
        "dc": {
          "key": "14"
        },
        "tags": [
          "sample_code"
        ],
        "trusted": true
      },
      "outputs": [
        {
          "name": "stdout",
          "output_type": "stream",
          "text": [
            " * postgresql:///games\n",
            "1 rows affected.\n"
          ]
        },
        {
          "data": {
            "text/html": [
              "<table>\n",
              "    <thead>\n",
              "        <tr>\n",
              "            <th>count</th>\n",
              "        </tr>\n",
              "    </thead>\n",
              "    <tbody>\n",
              "        <tr>\n",
              "            <td>31</td>\n",
              "        </tr>\n",
              "    </tbody>\n",
              "</table>"
            ],
            "text/plain": [
              "[(31,)]"
            ]
          },
          "execution_count": 164,
          "metadata": {},
          "output_type": "execute_result"
        }
      ],
      "source": [
        "%%sql \n",
        "\n",
        "select \n",
        "    count(*)\n",
        "from\n",
        "    game_sales\n",
        "full join reviews\n",
        "    using (game)\n",
        "where \n",
        "    critic_score is null and --Found any records that had null values\n",
        "    user_score is null;"
      ]
    },
    {
      "cell_type": "code",
      "execution_count": 168,
      "metadata": {
        "dc": {
          "key": "28"
        },
        "tags": [
          "sample_code"
        ],
        "trusted": true
      },
      "outputs": [
        {
          "name": "stdout",
          "output_type": "stream",
          "text": [
            " * postgresql:///games\n",
            "10 rows affected.\n"
          ]
        },
        {
          "data": {
            "text/html": [
              "<table>\n",
              "    <thead>\n",
              "        <tr>\n",
              "            <th>year</th>\n",
              "            <th>avg_critic_score</th>\n",
              "            <th>num_games</th>\n",
              "        </tr>\n",
              "    </thead>\n",
              "    <tbody>\n",
              "        <tr>\n",
              "            <td>1998</td>\n",
              "            <td>9.32</td>\n",
              "            <td>10</td>\n",
              "        </tr>\n",
              "        <tr>\n",
              "            <td>2004</td>\n",
              "            <td>9.03</td>\n",
              "            <td>11</td>\n",
              "        </tr>\n",
              "        <tr>\n",
              "            <td>2002</td>\n",
              "            <td>8.99</td>\n",
              "            <td>9</td>\n",
              "        </tr>\n",
              "        <tr>\n",
              "            <td>1999</td>\n",
              "            <td>8.93</td>\n",
              "            <td>11</td>\n",
              "        </tr>\n",
              "        <tr>\n",
              "            <td>2001</td>\n",
              "            <td>8.82</td>\n",
              "            <td>13</td>\n",
              "        </tr>\n",
              "        <tr>\n",
              "            <td>2011</td>\n",
              "            <td>8.76</td>\n",
              "            <td>26</td>\n",
              "        </tr>\n",
              "        <tr>\n",
              "            <td>2016</td>\n",
              "            <td>8.67</td>\n",
              "            <td>13</td>\n",
              "        </tr>\n",
              "        <tr>\n",
              "            <td>2013</td>\n",
              "            <td>8.66</td>\n",
              "            <td>18</td>\n",
              "        </tr>\n",
              "        <tr>\n",
              "            <td>2008</td>\n",
              "            <td>8.63</td>\n",
              "            <td>20</td>\n",
              "        </tr>\n",
              "        <tr>\n",
              "            <td>2012</td>\n",
              "            <td>8.62</td>\n",
              "            <td>12</td>\n",
              "        </tr>\n",
              "    </tbody>\n",
              "</table>"
            ],
            "text/plain": [
              "[(1998, Decimal('9.32'), 10),\n",
              " (2004, Decimal('9.03'), 11),\n",
              " (2002, Decimal('8.99'), 9),\n",
              " (1999, Decimal('8.93'), 11),\n",
              " (2001, Decimal('8.82'), 13),\n",
              " (2011, Decimal('8.76'), 26),\n",
              " (2016, Decimal('8.67'), 13),\n",
              " (2013, Decimal('8.66'), 18),\n",
              " (2008, Decimal('8.63'), 20),\n",
              " (2012, Decimal('8.62'), 12)]"
            ]
          },
          "execution_count": 168,
          "metadata": {},
          "output_type": "execute_result"
        }
      ],
      "source": [
        "--Selected year, average critic score, and number of games\n",
        "--Joined datasets by game name\n",
        "--Grouped by year\n",
        "--Returned only records whose gameis greater than 4\n",
        "--Ordered by critic score \n",
        "\n",
        "Select \n",
        "    year,\n",
        "    round(avg(critic_score),2) as avg_critic_score,\n",
        "    count(game_sales.game) as num_games \n",
        "from\n",
        "    game_sales\n",
        "inner join reviews\n",
        "    using (game)   \n",
        "group by \n",
        "        year\n",
        "having\n",
        "    count(game_sales.game) > 4   \n",
        "order by \n",
        "    avg_critic_score desc\n",
        "limit 10;\n",
        "    "
      ]
    },
    {
      "cell_type": "code",
      "execution_count": 170,
      "metadata": {
        "dc": {
          "key": "35"
        },
        "tags": [
          "sample_code"
        ],
        "trusted": true
      },
      "outputs": [
        {
          "name": "stdout",
          "output_type": "stream",
          "text": [
            " * postgresql:///games\n",
            "6 rows affected.\n"
          ]
        },
        {
          "data": {
            "text/html": [
              "<table>\n",
              "    <thead>\n",
              "        <tr>\n",
              "            <th>year</th>\n",
              "            <th>avg_critic_score</th>\n",
              "        </tr>\n",
              "    </thead>\n",
              "    <tbody>\n",
              "        <tr>\n",
              "            <td>1990</td>\n",
              "            <td>9.80</td>\n",
              "        </tr>\n",
              "        <tr>\n",
              "            <td>1992</td>\n",
              "            <td>9.67</td>\n",
              "        </tr>\n",
              "        <tr>\n",
              "            <td>2020</td>\n",
              "            <td>9.20</td>\n",
              "        </tr>\n",
              "        <tr>\n",
              "            <td>1993</td>\n",
              "            <td>9.10</td>\n",
              "        </tr>\n",
              "        <tr>\n",
              "            <td>1995</td>\n",
              "            <td>9.07</td>\n",
              "        </tr>\n",
              "        <tr>\n",
              "            <td>1982</td>\n",
              "            <td>9.00</td>\n",
              "        </tr>\n",
              "    </tbody>\n",
              "</table>"
            ],
            "text/plain": [
              "[(1990, Decimal('9.80')),\n",
              " (1992, Decimal('9.67')),\n",
              " (2020, Decimal('9.20')),\n",
              " (1993, Decimal('9.10')),\n",
              " (1995, Decimal('9.07')),\n",
              " (1982, Decimal('9.00'))]"
            ]
          },
          "execution_count": 170,
          "metadata": {},
          "output_type": "execute_result"
        }
      ],
      "source": [
        "--Selected year, and avg crtic score\n",
        "--Returns values excep those that are the same between each dataset\n",
        "\n",
        "Select \n",
        "    year,\n",
        "    avg_critic_score\n",
        "from\n",
        "    top_critic_years\n",
        "except \n",
        "Select \n",
        "    year,\n",
        "    avg_critic_score\n",
        "from\n",
        "    top_critic_years_more_than_four_games\n",
        "order by \n",
        "    avg_critic_score desc;"
      ]
    },
    {
      "cell_type": "code",
      "execution_count": 172,
      "metadata": {
        "dc": {
          "key": "42"
        },
        "tags": [
          "sample_code"
        ],
        "trusted": true
      },
      "outputs": [
        {
          "name": "stdout",
          "output_type": "stream",
          "text": [
            " * postgresql:///games\n",
            "10 rows affected.\n"
          ]
        },
        {
          "data": {
            "text/html": [
              "<table>\n",
              "    <thead>\n",
              "        <tr>\n",
              "            <th>year</th>\n",
              "            <th>avg_user_score</th>\n",
              "            <th>num_games</th>\n",
              "        </tr>\n",
              "    </thead>\n",
              "    <tbody>\n",
              "        <tr>\n",
              "            <td>1997</td>\n",
              "            <td>9.50</td>\n",
              "            <td>8</td>\n",
              "        </tr>\n",
              "        <tr>\n",
              "            <td>1998</td>\n",
              "            <td>9.40</td>\n",
              "            <td>10</td>\n",
              "        </tr>\n",
              "        <tr>\n",
              "            <td>2010</td>\n",
              "            <td>9.24</td>\n",
              "            <td>23</td>\n",
              "        </tr>\n",
              "        <tr>\n",
              "            <td>2009</td>\n",
              "            <td>9.18</td>\n",
              "            <td>20</td>\n",
              "        </tr>\n",
              "        <tr>\n",
              "            <td>2008</td>\n",
              "            <td>9.03</td>\n",
              "            <td>20</td>\n",
              "        </tr>\n",
              "        <tr>\n",
              "            <td>1996</td>\n",
              "            <td>9.00</td>\n",
              "            <td>5</td>\n",
              "        </tr>\n",
              "        <tr>\n",
              "            <td>2005</td>\n",
              "            <td>8.95</td>\n",
              "            <td>13</td>\n",
              "        </tr>\n",
              "        <tr>\n",
              "            <td>2006</td>\n",
              "            <td>8.95</td>\n",
              "            <td>16</td>\n",
              "        </tr>\n",
              "        <tr>\n",
              "            <td>2000</td>\n",
              "            <td>8.80</td>\n",
              "            <td>8</td>\n",
              "        </tr>\n",
              "        <tr>\n",
              "            <td>1999</td>\n",
              "            <td>8.80</td>\n",
              "            <td>11</td>\n",
              "        </tr>\n",
              "    </tbody>\n",
              "</table>"
            ],
            "text/plain": [
              "[(1997, Decimal('9.50'), 8),\n",
              " (1998, Decimal('9.40'), 10),\n",
              " (2010, Decimal('9.24'), 23),\n",
              " (2009, Decimal('9.18'), 20),\n",
              " (2008, Decimal('9.03'), 20),\n",
              " (1996, Decimal('9.00'), 5),\n",
              " (2005, Decimal('8.95'), 13),\n",
              " (2006, Decimal('8.95'), 16),\n",
              " (2000, Decimal('8.80'), 8),\n",
              " (1999, Decimal('8.80'), 11)]"
            ]
          },
          "execution_count": 172,
          "metadata": {},
          "output_type": "execute_result"
        }
      ],
      "source": [
        "%%sql \n",
        "\n",
        "-- Select the year, an average of user_score, and a count of games released in a given year, aliased and rounded\n",
        "-- Included years with more than four reviewed games\n",
        "\n",
        "Select \n",
        "    year, \n",
        "    round(avg(user_score),2) as avg_user_score,\n",
        "    count(game) as num_games\n",
        "from\n",
        "    game_sales\n",
        "inner join reviews\n",
        "    using (game)\n",
        "group by \n",
        "    year\n",
        "having \n",
        "    count(game) > 4\n",
        "order by\n",
        "    avg_user_score desc\n",
        "limit 10;"
      ]
    },
    {
      "cell_type": "code",
      "execution_count": null,
      "metadata": {},
      "outputs": [],
      "source": [
        "7"
      ]
    },
    {
      "cell_type": "code",
      "execution_count": 174,
      "metadata": {
        "dc": {
          "key": "49"
        },
        "tags": [
          "sample_code"
        ],
        "trusted": true
      },
      "outputs": [
        {
          "name": "stdout",
          "output_type": "stream",
          "text": [
            " * postgresql:///games\n",
            "3 rows affected.\n"
          ]
        },
        {
          "data": {
            "text/html": [
              "<table>\n",
              "    <thead>\n",
              "        <tr>\n",
              "            <th>year</th>\n",
              "        </tr>\n",
              "    </thead>\n",
              "    <tbody>\n",
              "        <tr>\n",
              "            <td>1998</td>\n",
              "        </tr>\n",
              "        <tr>\n",
              "            <td>2008</td>\n",
              "        </tr>\n",
              "        <tr>\n",
              "            <td>2002</td>\n",
              "        </tr>\n",
              "    </tbody>\n",
              "</table>"
            ],
            "text/plain": [
              "[(1998,), (2008,), (2002,)]"
            ]
          },
          "execution_count": 174,
          "metadata": {},
          "output_type": "execute_result"
        }
      ],
      "source": [
        "%%sql \n",
        "\n",
        "-- Selected the year results that appear on both tables\n",
        "select \n",
        "    year \n",
        "from\n",
        "    top_critic_years_more_than_four_games\n",
        "inner join \n",
        "    top_user_years_more_than_four_games\n",
        "    using (year)\n",
        "group by year;"
      ]
    },
    {
      "cell_type": "code",
      "execution_count": null,
      "metadata": {},
      "outputs": [],
      "source": [
        "8"
      ]
    },
    {
      "cell_type": "code",
      "execution_count": 176,
      "metadata": {
        "dc": {
          "key": "56"
        },
        "tags": [
          "sample_code"
        ],
        "trusted": true
      },
      "outputs": [
        {
          "name": "stdout",
          "output_type": "stream",
          "text": [
            " * postgresql:///games\n",
            "3 rows affected.\n"
          ]
        },
        {
          "data": {
            "text/html": [
              "<table>\n",
              "    <thead>\n",
              "        <tr>\n",
              "            <th>year</th>\n",
              "            <th>total_games_sold</th>\n",
              "        </tr>\n",
              "    </thead>\n",
              "    <tbody>\n",
              "        <tr>\n",
              "            <td>2008</td>\n",
              "            <td>175.07</td>\n",
              "        </tr>\n",
              "        <tr>\n",
              "            <td>1998</td>\n",
              "            <td>101.52</td>\n",
              "        </tr>\n",
              "        <tr>\n",
              "            <td>2002</td>\n",
              "            <td>58.67</td>\n",
              "        </tr>\n",
              "    </tbody>\n",
              "</table>"
            ],
            "text/plain": [
              "[(2008, Decimal('175.07')),\n",
              " (1998, Decimal('101.52')),\n",
              " (2002, Decimal('58.67'))]"
            ]
          },
          "execution_count": 176,
          "metadata": {},
          "output_type": "execute_result"
        }
      ],
      "source": [
        "%%sql \n",
        "\n",
        "--Selected the year and number of games sold\n",
        "--Placed the prvious query as a subquery to find what years are the same by year\n",
        "\n",
        "Select \n",
        "    year,\n",
        "    sum(games_sold) as total_games_sold\n",
        "from\n",
        "    game_sales\n",
        "where \n",
        "    year in \n",
        "    (select \n",
        "        year \n",
        "    from\n",
        "        top_critic_years_more_than_four_games\n",
        "    inner join \n",
        "        top_user_years_more_than_four_games\n",
        "        using (year)\n",
        "    group by year \n",
        "    )\n",
        "group by\n",
        "    year\n",
        "order by \n",
        "    total_games_sold desc;"
      ]
    }
  ],
  "metadata": {
    "kernelspec": {
      "display_name": "SQLite",
      "language": "sql",
      "name": "SQLite"
    },
    "language_info": {
      "file_extension": ".sqlite3-console",
      "mimetype": "text/x-sqlite3-console",
      "name": "sqlite3",
      "version": "0.4.0"
    }
  },
  "nbformat": 4,
  "nbformat_minor": 4
}
